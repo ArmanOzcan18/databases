{
 "cells": [
  {
   "cell_type": "markdown",
   "id": "6baaee96",
   "metadata": {},
   "source": [
    "<style  type=\"text/css\">\n",
    "cool {\n",
    "  width: 100px;\n",
    "  height: 100px;\n",
    "  background-color: red;\n",
    "  position: relative;\n",
    "  -webkit-animation-name: example; /* Safari 4.0 - 8.0 */\n",
    "  -webkit-animation-duration: 4s; /* Safari 4.0 - 8.0 */\n",
    "  -webkit-animation-iteration-count: infinite; /* Safari 4.0 - 8.0 */\n",
    "  animation-name: example;\n",
    "  animation-duration: 4s;\n",
    "  animation-iteration-count: infinite;\n",
    "}\n",
    "\n",
    "loud {\n",
    "    font-size: 20pt;\n",
    "    }\n",
    "\n",
    "/* Safari 4.0 - 8.0 */\n",
    "@-webkit-keyframes example {\n",
    "  0%   {background-color:red; left:0px; top:0px;}\n",
    "  25%  {background-color:yellow; left:200px; top:0px;}\n",
    "  50%  {background-color:blue; left:200px; top:200px;}\n",
    "  75%  {background-color:green; left:0px; top:200px;}\n",
    "  100% {background-color:red; left:0px; top:0px;}\n",
    "}\n",
    "\n",
    "/* Standard syntax */\n",
    "@keyframes example {\n",
    "  0%   {background-color:red; left:0px; top:0px;}\n",
    "  25%  {background-color:yellow; left:200px; top:0px;}\n",
    "  50%  {background-color:blue; left:200px; top:200px;}\n",
    "  75%  {background-color:green; left:0px; top:200px;}\n",
    "  100% {background-color:red; left:0px; top:0px;}\n",
    "}\n",
    "</style>\n",
    "\n",
    "<b><center>\n",
    "<span style=\"font-size: 24pt; line-height: 1.2\">\n",
    "COMS W4111: Introduction to Databases<br>\n",
    "Spring 2024, Sections 002/V02\n",
    "</span>\n",
    "</center></b>\n",
    "<br>\n",
    "<p>\n",
    "<i><center>\n",
    "<span style=\"font-size: 20pt; line-height: 1.2\">\n",
    "Homework 2: Common\n",
    "</span>\n",
    "</center></i>"
   ]
  },
  {
   "cell_type": "markdown",
   "id": "db195160",
   "metadata": {},
   "source": [
    "# Introduction\n",
    "\n",
    "This notebook contains HW2 Common. **Students on both tracks should complete this part.** To ensure everything runs as expected, work on this notebook in Jupyter.\n",
    "\n",
    "Submission instructions:\n",
    "\n",
    "- You will submit **a PDF** for this assignment\n",
    "    - The most reliable way to save as PDF is to go to your browser's menu bar and click `File -> Print`. **Switch the orientation to landscape mode**, and hit save.\n",
    "    - **MAKE SURE ALL YOUR WORK (CODE AND SCREENSHOTS) IS VISIBLE ON THE PDF. YOU WILL NOT GET CREDIT IF ANYTHING IS CUT OFF.** Reach out for troubleshooting."
   ]
  },
  {
   "cell_type": "markdown",
   "id": "6dc52cf5",
   "metadata": {},
   "source": [
    "<hr style=\"height:2px;\">"
   ]
  },
  {
   "cell_type": "markdown",
   "id": "db2468ad",
   "metadata": {},
   "source": [
    "# Written Questions"
   ]
  },
  {
   "cell_type": "markdown",
   "id": "6079e678",
   "metadata": {},
   "source": [
    "Arman Ozcan, ao2794"
   ]
  },
  {
   "cell_type": "markdown",
   "id": "617a19b5",
   "metadata": {},
   "source": [
    "## W1\n",
    "\n",
    "Explain Codd’s 3rd Rule.\n",
    "- What are some interpretations of a NULL value?\n",
    "- An alternative to using NULL is some other value for indicating missing data, e.g., using -1 for the value of a weight column. Explain the benefits of NULL relative to other approaches."
   ]
  },
  {
   "cell_type": "markdown",
   "id": "51afd801",
   "metadata": {},
   "source": [
    "This rule states that a fully relational DBMS must allow each field to be null, which is a way for representing missing or inapplicable information in a systematic way, distinct from an empty string or a number like -1 or 0. There are different ways to interpret a NULL value, such as a value that is missing, unknown, not applicable, or just a placeholder to be filled later. Unlike other approaches, NULL values maintain standardization across different database systems. They are also automatically excluded from statistical calculations unlike other values such as -1, and this provides more accurate calculations. They also provide semantic clarity and do not require additional context or explanation as another value like -1 would."
   ]
  },
  {
   "cell_type": "markdown",
   "id": "100cb5a2",
   "metadata": {},
   "source": [
    "## W2\n",
    "\n",
    "Briefly explain the following concepts:\n",
    "1. Primary key\n",
    "2. Candidate key\n",
    "3. Super key\n",
    "4. Alternate key\n",
    "5. Composite key\n",
    "6. Unique key\n",
    "7. Foreign key"
   ]
  },
  {
   "cell_type": "markdown",
   "id": "0af79087",
   "metadata": {},
   "source": [
    "1. Primary key: A candidate key that is chosen by the database designer as the principal means of identifying tuples within a relation.\n",
    "2. Candidate key: Minimal super key. Technically speaking, superkey for which no proper subset is a superkey. \n",
    "3. Super key: A set of one or more attributes that, taken collectively, allow us to identify uniquely a tuple in the relation.\n",
    "4. Alternate key: An alternate key is any candidate key that is not chosen to be the primary key. \n",
    "5. Composite key: A key that consists of two or more columns in a table that are used together to uniquely identify a specific tuple, which are used when no single column can uniquely identify records within the table.\n",
    "6. Unique key: A key that ensures all values in a column or a set of columns are unique across all records in a table. However, unlike primary keys, unique keys can accept null values, but only one null value if the unique constraint is applied to a single column.\n",
    "7. Foreign key: A key that uniquely identifies a row of another table by referencing to the primary key of that another table. They are used to establish and enforce a link between the data in two tables."
   ]
  },
  {
   "cell_type": "markdown",
   "id": "9ea33f40",
   "metadata": {},
   "source": [
    "## W3\n",
    "\n",
    "<img src=\"./written-diagram.png\">\n",
    "\n",
    "Consider the logical data model above. The one-to-one relationship is modeled using two foreign keys, one in each table.\n",
    "- Why does this make it difficult to insert data into the tables? \n",
    "- What is a (simple) fix for this, i.e., how would you model a one-to-one relationship?"
   ]
  },
  {
   "cell_type": "markdown",
   "id": "ca5adf14",
   "metadata": {},
   "source": [
    "Using two foreign keys, one in each table, leads to circular dependency; that is, one cannot insert an entry into Students without first inserting some entry into Faculty and vice versa due to foreign key constraint. A simple fix would be to only use one foreign key in one table that we designate as the dependent table, which uniquely references the primary table through its primary key. For example, in this case, we can model the one-to-one relationship by removing the Foreign Key on Faculty and just keep the Foreign Key on Student to link each student to a unique faculty member mentor."
   ]
  },
  {
   "cell_type": "markdown",
   "id": "ee08dea8",
   "metadata": {},
   "source": [
    "## W4\n",
    "\n",
    "The relational model places restrictions on attributes. Many data scenarios have more complex types of attributes. Briefly explain the following types of attributes:\n",
    "1. Simple attribute\n",
    "2. Composite attribute\n",
    "3. Derived attribute\n",
    "4. Single-value attribute\n",
    "5. Multi-value attribute"
   ]
  },
  {
   "cell_type": "markdown",
   "id": "7bfa599b",
   "metadata": {},
   "source": [
    "1. Simple attribute: Attributes that are not divided into subparts and instead is made as a single block. For example, \"student_ID\" could be a simple attribute that cannot be further divided.\n",
    "2. Composite attribute: Attributes that can be divided into subparts (i.e., other attributes). To give an example, an attribute \"name\" could be structured as a composite attribute consisting of \"first name\", \"middle initial\", and \"last name\".\n",
    "3. Derived attribute: Attributes whose value can be derived from the values of other related attributes or entities. For example, if there are two attributes \"date of birth\" and \"age\", the attribute \"age\" can be a derived attributed as it can be calculated using \"date of birth\" and the current date. In this case \"date of birth\" would be referred to as a base attribute, or a stored attribute, whereas the value of the derived attribute \"age\" would not be stored but be computed when required.\n",
    "4. Single-value attribute: Attributes that only take a single value for each entity. For example, the \"teacher_ID\" attribute for a specific teacher entity refers to only one teacher ID.\n",
    "5. Multi-value attribute: Attributes that take a set of values (zero, one, or more) for each entity. For example, the \"email_address\" attribute for a specific teacher entity may refer to multiple email addresses."
   ]
  },
  {
   "cell_type": "markdown",
   "id": "f9320b21",
   "metadata": {},
   "source": [
    "## W5\n",
    "\n",
    "The slides associated with the recommended textbook list six basic relational operators:\n",
    "1. select: σ\n",
    "2. project: π\n",
    "3. union: ∪\n",
    "4. set difference: -\n",
    "5. Cartesian product: ⨯\n",
    "6. rename: ρ\n",
    "\n",
    "\n",
    "The list does not include join: ⨝. This is because it is possible to derive join using more basic operators. Explain how to derive join from the basic operators."
   ]
  },
  {
   "cell_type": "markdown",
   "id": "7f77dabc",
   "metadata": {},
   "source": [
    "The natural join operator joins two tables, producing a table that contains all Cartesian-product rows where the common column names have the same value. We can derive natural join by first using Cartesian product to take all combinations of pairs of rows from both tables. Then, we will use select to only take the rows that have matching values for the common (same-named) columns. (In practice, these same-named columns would be primary key of one table which another table references through foreign key.) Lastly, we will use project to only take one of the each same-named columns (as well as taking all the other different-named columns); in other words, we get rid of the repeated columns (same-named) by project operation."
   ]
  },
  {
   "cell_type": "markdown",
   "id": "5de438ce",
   "metadata": {},
   "source": [
    "## W6\n",
    "\n",
    "Explain how using a natural join may produce an incorrect/unexpected answer."
   ]
  },
  {
   "cell_type": "markdown",
   "id": "2fc6a29c",
   "metadata": {},
   "source": [
    "The natural join operator joins two tables, producing a table that contains all Cartesian-product rows where the common column names have the same value. So, the join condition is only based on the name of the attribute, which may be problematic as it does not take into account any foreign key relationship. If the two tables that are natural joined have columns with the same name but different meanings or data types, the result will be unexpected and incorrect. An example would be the attribute \"phone number\" for two different tables: customer and company. The attribute name for these columns are the same but they mean different things and have different functions, where the \"phone number\" for customer is a personal phone number and the \"phone number\" for company is the company phone number. Natural joining these two tables would be incorrect as it would only take the rows with same phone number, despite these phone numbers referring to different things, which would lead to data loss of different valued rows of phone numbers."
   ]
  },
  {
   "cell_type": "markdown",
   "id": "b769889b",
   "metadata": {},
   "source": [
    "## W7\n",
    "\n",
    "The UNION and JOIN operations both combine two tables. Describe their differences."
   ]
  },
  {
   "cell_type": "markdown",
   "id": "fd99410b",
   "metadata": {},
   "source": [
    "JOIN operations are used to merge the matching rows from two or more tables based on a join condition between them. UNION operation, on the other hand, combines two or more tables of same structure (same number and order of columns with the same data type in each column) by stacking the rows together. JOIN combines tables horizontally based on the values of the common column between the tables, while UNION appends tables vertically attaching rows from different tables together (removing duplicate rows). From other perspective, JOIN operation leads to additional number of columns by merging columns of each matching row, whereas UNION operation leads to additional number of rows with same columns."
   ]
  },
  {
   "cell_type": "markdown",
   "id": "a298f48f",
   "metadata": {},
   "source": [
    "## W8\n",
    "\n",
    "Briefly explain the importance of integrity constraints. Why do non-atomic attributes cause problems/difficulties for integrity constraints?"
   ]
  },
  {
   "cell_type": "markdown",
   "id": "f64973d6",
   "metadata": {},
   "source": [
    "Integrity constraints ensure the accuracy and reliability of the data within a database and make sure that changes made to the database by authorized users do not result in a loss of data consistency. They essentially guard against unintended damage to the database. Examples include constraints on single relations, such as primary key, not null, or unique constraints, or referential integrity constraints for foreign keys.\n",
    "\n",
    "\n",
    "Non-atomic attributes hold multiple values or a set of values in a single field, so they violate the principle of atomicity, leading to complexities in enforcing data integrity and referential integrity for foreign key contraints and ensuring uniqueness. This also complicates query and data manipulation operations, such as searching, sorting, and applying aggregate functions, making them more difficult and less efficient."
   ]
  },
  {
   "cell_type": "markdown",
   "id": "befb0076",
   "metadata": {},
   "source": [
    "## W9\n",
    "\n",
    "What is the primary reason for creating indexes? What are the negative effects of creating unnecessary indexes?"
   ]
  },
  {
   "cell_type": "markdown",
   "id": "801b31fb",
   "metadata": {},
   "source": [
    "Many database queries target a limited subset of records within a table, rather than the entire dataset. Reading through every record to locate one with a specific value is a resource-intensive process. By implementing an index on a table's attribute, a database system can quickly identify tuples in the table that match a given attribute value, eliminating the need to examine each tuple in the table comprehensively. An index would be considered unnecessary if it is not often used by a query or it is redundant because some other compound index already covers it. Creating unnecessary indexes in a database leads to increased storage requirements, as each index occupies additional space. These surplus indexes slow down data modification operations (inserts, updates, deletes) due to the overhead of maintaining the indexes in sync with the table data."
   ]
  },
  {
   "cell_type": "markdown",
   "id": "ad5383ba",
   "metadata": {},
   "source": [
    "## W10\n",
    "\n",
    "Consider the table `time_slot` from the sample database associated with the recommended textbook.\n",
    "- The data type for the column `day` is `char(1)`. Given the data types MySQL supports, what is a better data type for `day`?\n",
    "- What is a scenario that would motivate creating an index on `day`?"
   ]
  },
  {
   "cell_type": "markdown",
   "id": "f1378ec3",
   "metadata": {},
   "source": [
    "Only using one character for a day, though efficient in space, is difficult to read, especially considering that both Tuesday and Thursday start with the same letter \"T\", an issue the sample database solved by denoting Thursday as \"R\". A better data type for day may be ENUM where we will define a list of acceptable string values for day, from \"MONDAY\" to \"SUNDAY\" (or \"MON\" to \"SUN\" if we want to be more efficient). This makes the data more readable and restricts the values to the specified set of days, providing better data integrity and making the data more understandable than single-character codes, which can be potentially any character.\n",
    "\n",
    "Creating an index on the day column would be helpful in cases where queries frequently filter or group data based on the day of the week. For instance, if an application often needs to retrieve records for courses scheduled on specific days, such as all courses happening on Fridays, indexing the day column would significantly speed up these operations."
   ]
  },
  {
   "cell_type": "markdown",
   "id": "dedecd87",
   "metadata": {},
   "source": [
    "<hr style=\"height:2px;\">"
   ]
  },
  {
   "cell_type": "markdown",
   "id": "b3f98f46",
   "metadata": {},
   "source": [
    "# Relational Algebra"
   ]
  },
  {
   "cell_type": "markdown",
   "id": "d4f2fe60",
   "metadata": {},
   "source": [
    "## R1\n",
    "\n",
    "- Write a relational algebra statement that produces a relation showing **courses that do not have a prereq**\n",
    "- Your output should have the following columns (names should match exactly; there should be no prefixes):\n",
    "    - `course_id`\n",
    "    - `title`\n",
    "    - `dept_name`\n",
    "    - `credits`\n",
    "- You may not use the anti-join: ▷ operator\n",
    "- You should use the `course` and `prereq` tables"
   ]
  },
  {
   "cell_type": "markdown",
   "id": "e8990548",
   "metadata": {},
   "source": [
    "Algebra statement:\n",
    "\n",
    "```\n",
    "table = π course_id, title, dept_name, credits (σ prereq.prereq_id=null (course ⟕ prereq))\n",
    "\n",
    "π course.course_id → course_id, course.title → title, course.dept_name → dept_name, course.credits → credits table\n",
    "```"
   ]
  },
  {
   "cell_type": "markdown",
   "id": "5a5a81dc",
   "metadata": {},
   "source": [
    "Execution:\n",
    "\n",
    "| <img src=\"./R1.png\"> |\n",
    "| :---: |\n",
    "| __R1 Execution Result__|"
   ]
  },
  {
   "cell_type": "markdown",
   "id": "5a615f16",
   "metadata": {},
   "source": [
    "## R2\n",
    "\n",
    "- Write a relational algebra query that produces a relation showing **students who have taken sections taught by their advisors**\n",
    "    - A section is identified by `(course_id, sec_id, semester, year)`\n",
    "- Your output should have the following columns (names should match exactly; there should be no prefixes):\n",
    "    - `student_name`\n",
    "    - `instructor_name`\n",
    "    - `course_id`\n",
    "    - `sec_id`\n",
    "    - `semester`\n",
    "    - `year`\n",
    "    - `grade`\n",
    "- You should use the `takes`, `teaches`, `advisor`, `student`, and `instructor` tables\n",
    "\n",
    "\n",
    "- As an example, one row you should get is\n",
    "\n",
    "| student_name | instructor_name | course_id | sec_id | semester | year | grade |\n",
    "|--------------|-----------------|-----------|--------|----------|------|-------|\n",
    "| 'Shankar'    | 'Srinivasan'    | 'CS-101'  | 1      | 'Fall'   | 2009 | 'C'   |\n",
    "\n",
    "- Shankar took CS-101, section 1 in Fall of 2009, which was taught by Srinivasan. Additionally, Srinivasan advises Shankar"
   ]
  },
  {
   "cell_type": "markdown",
   "id": "250684a3",
   "metadata": {},
   "source": [
    "Algebra statement:\n",
    "\n",
    "```\n",
    "table_one = σ s_id=student.ID ∧ i_id=instructor.ID (advisor ⨯ instructor ⨯ student)\n",
    "\n",
    "table_two = σ teaches.course_id=takes.course_id ∧\n",
    "\tteaches.semester=takes.semester ∧\n",
    "\tteaches.year=takes.year ∧\n",
    "\tteaches.sec_id=takes.sec_id\n",
    "\t(teaches ⨯ takes)\n",
    "\t\n",
    "table_combined = π student.name, instructor.name, teaches.course_id, teaches.sec_id, teaches.semester, teaches.year, takes.grade (σ teaches.ID=instructor.ID ∧ takes.ID=student.ID (table_one  ⨯ table_two))\n",
    "\n",
    "π student.name → student_name, instructor.name → instructor_name, teaches.course_id → course_i\n",
    "```"
   ]
  },
  {
   "cell_type": "markdown",
   "id": "7dac7d0f",
   "metadata": {},
   "source": [
    "Execution:\n",
    "\n",
    "| <img src=\"./R2.png\"> |\n",
    "| :---: |\n",
    "| __R2 Execution Result__|"
   ]
  },
  {
   "cell_type": "markdown",
   "id": "bb7afb27",
   "metadata": {},
   "source": [
    "## R3\n",
    "\n",
    "- Write a relational algebra query that produces a relation showing **sections that occur on Friday and start after 10 AM**\n",
    "- Your output should have the following columns (names should match exactly; there should be no prefixes):\n",
    "    - `course_title`\n",
    "    - `sec_id`\n",
    "    - `semester`\n",
    "    - `year`\n",
    "    - `day`\n",
    "    - `start_hr`\n",
    "- You should use the `course`, `section`, and `time_slot` tables"
   ]
  },
  {
   "cell_type": "markdown",
   "id": "21fe18b6",
   "metadata": {},
   "source": [
    "Algebra statement:\n",
    "\n",
    "```\n",
    "table = π title → course_title, sec_id → sec_id, semester → semester, year → year, day → day, start_hr → start_hr ((course ⨝ section) ⨝ time_slot)\n",
    "\n",
    "σ day='F' ∧ start_hr>10 table\n",
    "```"
   ]
  },
  {
   "cell_type": "markdown",
   "id": "da1898ec",
   "metadata": {},
   "source": [
    "Execution:\n",
    "\n",
    "| <img src=\"./R3.png\"> |\n",
    "| :---: |\n",
    "| __R3 Execution Result__|"
   ]
  },
  {
   "cell_type": "code",
   "execution_count": null,
   "id": "5f303407",
   "metadata": {},
   "outputs": [],
   "source": []
  }
 ],
 "metadata": {
  "kernelspec": {
   "display_name": "Python 3 (ipykernel)",
   "language": "python",
   "name": "python3"
  },
  "language_info": {
   "codemirror_mode": {
    "name": "ipython",
    "version": 3
   },
   "file_extension": ".py",
   "mimetype": "text/x-python",
   "name": "python",
   "nbconvert_exporter": "python",
   "pygments_lexer": "ipython3",
   "version": "3.10.9"
  }
 },
 "nbformat": 4,
 "nbformat_minor": 5
}
